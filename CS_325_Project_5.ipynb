{
  "nbformat": 4,
  "nbformat_minor": 0,
  "metadata": {
    "kernelspec": {
      "display_name": "Python 3",
      "language": "python",
      "name": "python3"
    },
    "language_info": {
      "codemirror_mode": {
        "name": "ipython",
        "version": 3
      },
      "file_extension": ".py",
      "mimetype": "text/x-python",
      "name": "python",
      "nbconvert_exporter": "python",
      "pygments_lexer": "ipython3",
      "version": "3.6.5"
    },
    "toc": {
      "colors": {
        "hover_highlight": "#DAA520",
        "navigate_num": "#000000",
        "navigate_text": "#333333",
        "running_highlight": "#FF0000",
        "selected_highlight": "#FFD700",
        "sidebar_border": "#EEEEEE",
        "wrapper_background": "#FFFFFF"
      },
      "moveMenuLeft": true,
      "nav_menu": {
        "height": "192px",
        "width": "252px"
      },
      "navigate_menu": true,
      "number_sections": true,
      "sideBar": true,
      "threshold": 4,
      "toc_cell": false,
      "toc_section_display": "block",
      "toc_window_display": false,
      "widenNotebook": false
    },
    "colab": {
      "provenance": [],
      "include_colab_link": true
    }
  },
  "cells": [
    {
      "cell_type": "markdown",
      "metadata": {
        "id": "view-in-github",
        "colab_type": "text"
      },
      "source": [
        "<a href=\"https://colab.research.google.com/github/bennetthamilton/Bennett_Hamilton_Jupyters/blob/main/CS_325_Project_5.ipynb\" target=\"_parent\"><img src=\"https://colab.research.google.com/assets/colab-badge.svg\" alt=\"Open In Colab\"/></a>"
      ]
    },
    {
      "cell_type": "markdown",
      "metadata": {
        "id": "zOCX0yuW_DKJ"
      },
      "source": [
        "```\n",
        "Bennett Hamilton\n",
        "hamibenn@oregonstate.edu\n",
        "Programming Exercise 5\n",
        "CS 325 Algorithms Spring 2023\n",
        "```"
      ]
    },
    {
      "cell_type": "markdown",
      "metadata": {
        "id": "nQ7TsqJ9kXcD"
      },
      "source": [
        "# Heuristic Search\n",
        "\n",
        "## Directions\n",
        "\n",
        "This notebook has instructions specific to this assignment. Read all the instructions carefully and make sure you understand them. Please ask questions if you do not understand something. You must follow the directions *exactly* or you will get a 0 on the assignment.\n",
        "\n",
        "Before submitting this assignment, please re-execute the entire notebook: Kernel > Restart & Run All. "
      ]
    },
    {
      "cell_type": "markdown",
      "metadata": {
        "id": "iYpuapf4kXcH"
      },
      "source": [
        "Add any additional standard library imports you need here:"
      ]
    },
    {
      "cell_type": "code",
      "metadata": {
        "id": "Fm7iLIhokXcJ"
      },
      "source": [
        "# add your libraries (if any)"
      ],
      "execution_count": null,
      "outputs": []
    },
    {
      "cell_type": "markdown",
      "metadata": {
        "id": "0yRZrI08kXcO"
      },
      "source": [
        "# State Space Search with A* Search\n",
        "\n",
        "You are going to implement the [A\\* Search algorithm](https://en.wikipedia.org/wiki/A*_search_algorithm) for a navigation problem.\n",
        "\n",
        "\n",
        "## Motivation\n",
        "\n",
        "Search is often used for path-finding in video games. Although the characters in a video game often move in continuous spaces,\n",
        "it is trivial to layout a \"waypoint\" system as a kind of navigation grid over the continuous space. Then if the character needs\n",
        "to get from Point A to Point B, it does a line of sight (LOS) scan to find the nearest waypoint (let's call it Waypoint A) and\n",
        "finds the nearest, LOS waypoint to Point B (let's call it Waypoint B). The agent then does a A* search for Waypoint B from Waypoint A to find the shortest path. The entire path is thus Point A to Waypoint A to Waypoint B to Point B.\n",
        "\n",
        "We're going to simplify the problem by working in a grid world. The symbols that form the grid have a special meaning as they\n",
        "specify the type of the terrain and the cost to enter a grid cell with that type of terrain:\n",
        "\n",
        "```\n",
        "token   terrain    cost \n",
        ".       plains     1\n",
        "*       forest     3\n",
        "#       hills      5\n",
        "~       swamp      7\n",
        "x       mountains  impassible\n",
        "```\n",
        "\n",
        "We can think of the raw format of the map as being something like:\n",
        "\n",
        "```\n",
        "....*..\n",
        "...***.\n",
        ".###...\n",
        "..##...\n",
        "..#..**\n",
        "....***\n",
        ".......\n",
        "```"
      ]
    },
    {
      "cell_type": "markdown",
      "metadata": {
        "id": "j1cn30lNkXcP"
      },
      "source": [
        "## The World\n",
        "\n",
        "Given a map like the one above, we can easily represent each row as a `List` and the entire map as `List of Lists`:"
      ]
    },
    {
      "cell_type": "code",
      "metadata": {
        "id": "uzz377RmkXcQ"
      },
      "source": [
        "full_world = [\n",
        "  ['.', '.', '.', '.', '.', '*', '*', '*', '*', '*', '*', '*', '*', '*', '*', '.', '.', '.', '.', '.', '.', '.', '.', '.', '.', '.', '.'], \n",
        "  ['.', '.', '.', '.', '.', '.', '.', '*', '*', '*', '*', '*', '*', '*', '*', '*', '.', '.', 'x', 'x', 'x', 'x', 'x', 'x', 'x', '.', '.'], \n",
        "  ['.', '.', '.', '.', 'x', 'x', '*', '*', '*', '*', '*', '*', '*', '*', '*', '*', '*', 'x', 'x', 'x', '#', '#', '#', 'x', 'x', '#', '#'], \n",
        "  ['.', '.', '.', '.', '#', 'x', 'x', 'x', '*', '*', '*', '*', '~', '~', '*', '*', '*', '*', '*', '.', '.', '#', '#', 'x', 'x', '#', '.'], \n",
        "  ['.', '.', '.', '#', '#', 'x', 'x', '*', '*', '.', '.', '~', '~', '~', '~', '*', '*', '*', '.', '.', '.', '#', 'x', 'x', 'x', '#', '.'], \n",
        "  ['.', '#', '#', '#', 'x', 'x', '#', '#', '.', '.', '.', '.', '~', '~', '~', '~', '~', '.', '.', '.', '.', '.', '#', 'x', '#', '.', '.'], \n",
        "  ['.', '#', '#', 'x', 'x', '#', '#', '.', '.', '.', '.', '#', 'x', 'x', 'x', '~', '~', '~', '.', '.', '.', '.', '.', '#', '.', '.', '.'], \n",
        "  ['.', '.', '#', '#', '#', '#', '#', '.', '.', '.', '.', '.', '.', '#', 'x', 'x', 'x', '~', '~', '~', '.', '.', '#', '#', '#', '.', '.'], \n",
        "  ['.', '.', '.', '#', '#', '#', '.', '.', '.', '.', '.', '.', '#', '#', 'x', 'x', '.', '~', '~', '.', '.', '#', '#', '#', '.', '.', '.'], \n",
        "  ['.', '.', '.', '~', '~', '~', '.', '.', '#', '#', '#', 'x', 'x', 'x', 'x', '.', '.', '.', '~', '.', '#', '#', '#', '.', '.', '.', '.'], \n",
        "  ['.', '.', '~', '~', '~', '~', '~', '.', '#', '#', 'x', 'x', 'x', '#', '.', '.', '.', '.', '.', '#', 'x', 'x', 'x', '#', '.', '.', '.'], \n",
        "  ['.', '~', '~', '~', '~', '~', '.', '.', '#', 'x', 'x', '#', '.', '.', '.', '.', '~', '~', '.', '.', '#', 'x', 'x', '#', '.', '.', '.'], \n",
        "  ['~', '~', '~', '~', '~', '.', '.', '#', '#', 'x', 'x', '#', '.', '~', '~', '~', '~', '.', '.', '.', '#', 'x', '#', '.', '.', '.', '.'], \n",
        "  ['.', '~', '~', '~', '~', '.', '.', '#', '*', '*', '#', '.', '.', '.', '.', '~', '~', '~', '~', '.', '.', '#', '.', '.', '.', '.', '.'], \n",
        "  ['.', '.', '.', '.', 'x', '.', '.', '*', '*', '*', '*', '#', '#', '#', '#', '.', '~', '~', '~', '.', '.', '#', 'x', '#', '.', '.', '.'], \n",
        "  ['.', '.', '.', 'x', 'x', 'x', '*', '*', '*', '*', '*', '*', 'x', 'x', 'x', '#', '#', '.', '~', '.', '#', 'x', 'x', '#', '.', '.', '.'], \n",
        "  ['.', '.', 'x', 'x', '*', '*', '*', '*', '*', '*', '*', '*', '*', '*', 'x', 'x', 'x', '.', '.', 'x', 'x', 'x', '.', '.', '.', '.', '.'], \n",
        "  ['.', '.', '.', 'x', 'x', '*', '*', '*', '*', '*', '*', '*', '*', '*', '*', '*', 'x', 'x', 'x', 'x', '.', '.', '.', '.', '.', '.', '.'], \n",
        "  ['.', '.', '.', 'x', 'x', 'x', '*', '*', '*', '*', '*', '*', '*', '*', '.', '.', '.', '#', '#', '.', '.', '.', '.', '.', '.', '.', '.'], \n",
        "  ['.', '.', '.', '.', 'x', 'x', 'x', '*', '*', '*', '*', '*', '*', '.', '.', '.', '.', '.', '.', '.', '.', '.', '.', '~', '~', '~', '~'], \n",
        "  ['.', '.', '#', '#', '#', '#', 'x', 'x', '*', '*', '*', '*', '*', '.', 'x', '.', '.', '.', '.', '.', '~', '~', '~', '~', '~', '~', '~'], \n",
        "  ['.', '.', '.', '.', '#', '#', '#', 'x', 'x', 'x', '*', '*', 'x', 'x', '.', '.', '.', '.', '.', '.', '~', '~', '~', '~', '~', '~', '~'], \n",
        "  ['.', '.', '.', '.', '.', '.', '#', '#', '#', 'x', 'x', 'x', 'x', '.', '.', '.', '.', '#', '#', '.', '.', '~', '~', '~', '~', '~', '~'], \n",
        "  ['.', '#', '#', '.', '.', '#', '#', '#', '#', '#', '.', '.', '.', '.', '.', '#', '#', 'x', 'x', '#', '#', '.', '~', '~', '~', '~', '~'], \n",
        "  ['#', 'x', '#', '#', '#', '#', '.', '.', '.', '.', '.', 'x', 'x', 'x', '#', '#', 'x', 'x', '.', 'x', 'x', '#', '#', '~', '~', '~', '~'], \n",
        "  ['#', 'x', 'x', 'x', '#', '.', '.', '.', '.', '.', '#', '#', 'x', 'x', 'x', 'x', '#', '#', '#', '#', 'x', 'x', 'x', '~', '~', '~', '~'], \n",
        "  ['#', '#', '.', '.', '.', '.', '.', '.', '.', '.', '.', '.', '#', '#', '#', '#', '#', '.', '.', '.', '.', '#', '#', '#', '.', '.', '.']]"
      ],
      "execution_count": null,
      "outputs": []
    },
    {
      "cell_type": "markdown",
      "metadata": {
        "id": "Kq_msoB8kXcU"
      },
      "source": [
        "<div style=\"background: khaki; color: darkgoldenrod; border: 2px solid goldenrod; padding: 5px; margin: 10px;\">\n",
        "<strong>Warning</strong>\n",
        "</div>\n",
        "\n",
        "One implication of this representation is that (x, y) is world[ y][ x] so that (3, 2) is world[ 2][ 3] and world[ 7][ 9] is (9, 7).\n",
        "\n",
        "It is often easier to begin your programming by operating on test input that has an obvious solution. If we had a small 7x7 world with the following characteristics, what do you expect the policy would be?"
      ]
    },
    {
      "cell_type": "code",
      "metadata": {
        "id": "OmO5o1HEkXcW"
      },
      "source": [
        "test_world = [\n",
        "  ['.', '*', '*', '*', '*', '*', '*'],\n",
        "  ['.', '*', '*', '*', '*', '*', '*'],\n",
        "  ['.', '*', '*', '*', '*', '*', '*'],\n",
        "  ['.', '.', '.', '.', '.', '.', '.'],\n",
        "  ['*', '*', '*', '*', '*', '*', '.'],\n",
        "  ['*', '*', '*', '*', '*', '*', '.'],\n",
        "  ['*', '*', '*', '*', '*', '*', '.'],\n",
        "]"
      ],
      "execution_count": null,
      "outputs": []
    },
    {
      "cell_type": "markdown",
      "metadata": {
        "id": "AK5WxZwNkXca"
      },
      "source": [
        "## States and State Representation\n",
        "\n",
        "The canonical pieces of a State Space Search problem are the States, Actions, Transitions and Costs. \n",
        "\n",
        "We'll start with the state representation. For the navigation problem, a state is the current position of the agent, `(x,y)`. The entire set of possible states is implicitly represented by the world map."
      ]
    },
    {
      "cell_type": "markdown",
      "metadata": {
        "id": "9X5_dCfbkXcb"
      },
      "source": [
        "## Actions and Transitions\n",
        "\n",
        "Next we need to specify the actions. In general, there are a number of different possible action sets in such a world. The agent might be constrained to move north/south/east/west or diagonal moves might be permitted as well (or really anything). When combined with the set of States, the *permissible* actions forms the Transition set.\n",
        "\n",
        "Rather than enumerate the Transition set directly, for this problem it's easier to calculate the available actions and transitions on the fly. This can be done by specifying a *movement model* as offsets to the current state and then checking to see which of the potential successor states are actually permitted. This can be done in the successor function mentioned in the pseudocode.\n",
        "\n",
        "One such example of a movement model is shown below."
      ]
    },
    {
      "cell_type": "code",
      "metadata": {
        "id": "T3y5hgT3kXcc"
      },
      "source": [
        "cardinal_moves = [(0,-1), (1,0), (0,1), (-1,0)]"
      ],
      "execution_count": null,
      "outputs": []
    },
    {
      "cell_type": "markdown",
      "metadata": {
        "id": "YxfE_grIkXcg"
      },
      "source": [
        "## Costs\n",
        "\n",
        "We can encode the costs described above in a `Dict`:"
      ]
    },
    {
      "cell_type": "code",
      "metadata": {
        "id": "PzLf_uJOkXch"
      },
      "source": [
        "costs = { '.': 1, '*': 3, '#': 5, '~': 7}"
      ],
      "execution_count": null,
      "outputs": []
    },
    {
      "cell_type": "markdown",
      "metadata": {
        "id": "j8JPzSkQkXck"
      },
      "source": [
        "## A\\* Search Implementation\n",
        "\n",
        "As Python is an interpreted language, you're going to need to insert all of your helper functions *before* the actual `a_star_search` function implementation. Put those implementations here, along with their documentation. There should be one Markdown cell for the documentation, followed by one Codecell for the implementation. I've included two to get you started.\n",
        "\n",
        "-----"
      ]
    },
    {
      "cell_type": "markdown",
      "metadata": {
        "id": "V0LMbUuFkXcm"
      },
      "source": [
        "**helper1**"
      ]
    },
    {
      "cell_type": "code",
      "metadata": {
        "id": "dzySubWIkXcn"
      },
      "source": [
        "def get_neighbors(state, moves, world):\n",
        "    \"\"\"\n",
        "    Returns the valid neighboring states of the current state.\n",
        "    \"\"\"\n",
        "    x, y = state\n",
        "    neighbors = []\n",
        "\n",
        "    for dx, dy in moves:\n",
        "        nx, ny = x + dx, y + dy\n",
        "\n",
        "        if 0 <= nx < len(world[0]) and 0 <= ny < len(world) and world[ny][nx] != 'x':\n",
        "            neighbors.append((nx, ny))\n",
        "\n",
        "    return neighbors"
      ],
      "execution_count": null,
      "outputs": []
    },
    {
      "cell_type": "markdown",
      "source": [
        "**helper2**"
      ],
      "metadata": {
        "id": "aiO3vDoRjvkg"
      }
    },
    {
      "cell_type": "code",
      "source": [
        "def get_cost(state, costs, world):\n",
        "    \"\"\"\n",
        "    Returns the cost of entering the given state.\n",
        "    \"\"\"\n",
        "    x, y = state\n",
        "    return costs[world[y][x]]"
      ],
      "metadata": {
        "id": "NExMpK58g9Ou"
      },
      "execution_count": null,
      "outputs": []
    },
    {
      "cell_type": "markdown",
      "metadata": {
        "id": "xJ6Qv9YCkXcr"
      },
      "source": [
        "(you can just overwrite the above one and add as many others as you need). \n",
        "\n",
        "Place one helper function per block. Comment your code well.\n",
        "\n",
        "-----"
      ]
    },
    {
      "cell_type": "markdown",
      "metadata": {
        "id": "xsavJL6dkXcs"
      },
      "source": [
        "**a_star_search**\n",
        "\n",
        "The `a_star_search` function uses the A\\* Search algorithm to solve a navigational problem for an agent in a grid world. It calculates a path from the start state to the goal state and returns the actions required to get from the start to the goal.\n",
        "\n",
        "* **world** is the starting state representation for a navigation problem.\n",
        "* **start** is the starting location, `(x, y)`.\n",
        "* **goal** is the desired end position, `(x, y)`.\n",
        "* **costs** is a `Dict` of costs for each type of terrain.\n",
        "* **moves** is the legal movement model expressed in offsets.\n",
        "* **heuristic** is a heuristic function that returns an estimate of the total cost $f(x)$ from the start to the goal through the current node, $x$. The heuristic function might change with the movement model.\n",
        "\n",
        "\n",
        "The function returns the offsets needed to get from start state to the goal as a `List`. For example, for the test world:\n",
        "\n",
        "```\n",
        "  ['.', '*', '*', '*', '*', '*', '*'],\n",
        "  ['.', '*', '*', '*', '*', '*', '*'],\n",
        "  ['.', '*', '*', '*', '*', '*', '*'],\n",
        "  ['.', '.', '.', '.', '.', '.', '.'],\n",
        "  ['*', '*', '*', '*', '*', '*', '.'],\n",
        "  ['*', '*', '*', '*', '*', '*', '.'],\n",
        "  ['*', '*', '*', '*', '*', '*', '.'],\n",
        "\n",
        "```\n",
        "\n",
        "it would return:\n",
        "\n",
        "`[(0,1), (0,1), (0,1), (1,0), (1,0), (1,0), (1,0), (1,0), (1,0), (0,1), (0,1), (0,1)]`\n",
        "\n",
        "Do not make unwarranted assumptions. For example, do not assume the starting point is always `(0, 0)` or that the goal is always in the lower right hand corner. Do not make any assumptions about the movement model beyond the requirement that they be offsets (it could be offets of 2!)."
      ]
    },
    {
      "cell_type": "code",
      "metadata": {
        "id": "jNCS9W88kXct"
      },
      "source": [
        "# ref: https://en.wikipedia.org/wiki/A*_search_algorithm\n",
        "# ref: https://www.simplilearn.com/tutorials/artificial-intelligence-tutorial/a-star-algorithm\n",
        "def a_star_search( world, start, goal, costs, moves, heuristic):\n",
        "    \"\"\"\n",
        "    Performs A* search to find the shortest path from the start state to the goal state.\n",
        "    \"\"\"\n",
        "    frontier = [(0, start)]  # Priority queue of (f-score, state) tuples\n",
        "    came_from = {}  # Mapping of state to previous state in the optimal path\n",
        "    g_score = {start: 0}  # Mapping of state to cost from start to current state\n",
        "\n",
        "    while frontier:\n",
        "        _, current = min(frontier)  # Get the state with the lowest f-score\n",
        "        if current == goal:\n",
        "            path = []\n",
        "            while current in came_from:\n",
        "                path.insert(0, current)\n",
        "                current = came_from[current]\n",
        "            return path\n",
        "\n",
        "        frontier = [node for node in frontier if node[1] != current]  # Remove current state from frontier\n",
        "\n",
        "        neighbors = get_neighbors(current, moves, world)\n",
        "        for neighbor in neighbors:\n",
        "            new_g_score = g_score[current] + get_cost(neighbor, costs, world)\n",
        "            if neighbor not in g_score or new_g_score < g_score[neighbor]:  # This path to neighbor is better than any previous one. Record it!\n",
        "                g_score[neighbor] = new_g_score\n",
        "                f_score = new_g_score + heuristic(neighbor, goal)\n",
        "                frontier.append((f_score, neighbor))\n",
        "                came_from[neighbor] = current\n",
        "\n",
        "    return []  # Otherwise, no path found"
      ],
      "execution_count": null,
      "outputs": []
    },
    {
      "cell_type": "markdown",
      "metadata": {
        "id": "03znbIS1kXcx"
      },
      "source": [
        "**pretty_print_solution**\n",
        "\n",
        "The `pretty_print_solution` function prints an ASCII representation of the solution generated by the `a_star_search`. For example, for the test world, it would take the `world` and `path` and print:\n",
        "\n",
        "```\n",
        "v******\n",
        "v******\n",
        "v******\n",
        ">>>>>>v\n",
        "******v\n",
        "******v\n",
        "******G\n",
        "```\n",
        "\n",
        "using `v`, `^`, `>`, `<` to represent actions and `G` to represent the goal. (Note the format of the output...there are no spaces, commas, or extraneous characters).\n"
      ]
    },
    {
      "cell_type": "code",
      "metadata": {
        "id": "7h2MdOhZkXcy"
      },
      "source": [
        "def pretty_print_solution( world, path, start):\n",
        "    \"\"\"\n",
        "    Prints an ASCII representation of the solution path.\n",
        "    \"\"\"\n",
        "    directions = [(0, -1, '^'), (1, 0, '>'), (0, 1, 'v'), (-1, 0, '<')]\n",
        "    x, y = start\n",
        "    \n",
        "    for i in range(len(path)):\n",
        "        dx, dy, direction = next((dx, dy, direction) for dx, dy, direction in directions if (x + dx, y + dy) == path[i])\n",
        "        x, y = x + dx, y + dy\n",
        "        if i == len(path) - 1:  # Last step is the goal\n",
        "            world[y][x] = 'G'\n",
        "        else:\n",
        "            world[y][x] = direction\n",
        "    \n",
        "    for row in world:\n",
        "        print(''.join(row))"
      ],
      "execution_count": null,
      "outputs": []
    },
    {
      "cell_type": "markdown",
      "metadata": {
        "id": "-IA5HToQkXc1"
      },
      "source": [
        "Execute `a_star_search` and `print_path` for the `test_world` and the `real_world`."
      ]
    },
    {
      "cell_type": "markdown",
      "metadata": {
        "id": "6W9g8S-hkXc2"
      },
      "source": [
        "*Describe and define your heuristic function here. You can change the arguments to whatever you use in your `a_star_search` implementation.*\n"
      ]
    },
    {
      "cell_type": "code",
      "metadata": {
        "id": "ulKAKrFvkXc6"
      },
      "source": [
        "# ref: https://en.wikipedia.org/wiki/Taxicab_geometry\n",
        "# ref: https://www.simplilearn.com/tutorials/artificial-intelligence-tutorial/a-star-algorithm\n",
        "def heuristic(state, goal):\n",
        "    \"\"\"\n",
        "    Returns the Manhattan distance heuristic between the current state and the goal state.\n",
        "    \"\"\"\n",
        "    x, y = state\n",
        "    gx, gy = goal\n",
        "    return abs(gx - x) + abs(gy - y)"
      ],
      "execution_count": null,
      "outputs": []
    },
    {
      "cell_type": "markdown",
      "metadata": {
        "id": "_RsjbyqXyv-R"
      },
      "source": [
        "Think about what would make a good heuristic function and implement that.  If you get stuck, here's the [spoiler hint](https://en.wikipedia.org/wiki/Taxicab_geometry)."
      ]
    },
    {
      "cell_type": "markdown",
      "metadata": {
        "id": "kDJlfnRmyqak"
      },
      "source": [
        "# Run and Test"
      ]
    },
    {
      "cell_type": "code",
      "metadata": {
        "id": "EJSYGrtKkXc-",
        "colab": {
          "base_uri": "https://localhost:8080/"
        },
        "outputId": "5fa3b070-4d68-4606-acc0-6f0a7f2ab2f1"
      },
      "source": [
        "test_path = a_star_search( test_world, (0, 0), (6, 6), costs, cardinal_moves, heuristic )\n",
        "print( test_path)"
      ],
      "execution_count": null,
      "outputs": [
        {
          "output_type": "stream",
          "name": "stdout",
          "text": [
            "[(0, 1), (0, 2), (0, 3), (1, 3), (2, 3), (3, 3), (4, 3), (5, 3), (6, 3), (6, 4), (6, 5), (6, 6)]\n"
          ]
        }
      ]
    },
    {
      "cell_type": "code",
      "metadata": {
        "id": "mMICVFlskXdB",
        "colab": {
          "base_uri": "https://localhost:8080/"
        },
        "outputId": "5ff5509e-e882-4e90-9609-fc3db0006e48"
      },
      "source": [
        "pretty_print_solution( test_world, test_path, (0, 0) )"
      ],
      "execution_count": null,
      "outputs": [
        {
          "output_type": "stream",
          "name": "stdout",
          "text": [
            ".******\n",
            "v******\n",
            "v******\n",
            "v>>>>>>\n",
            "******v\n",
            "******v\n",
            "******G\n"
          ]
        }
      ]
    },
    {
      "cell_type": "code",
      "metadata": {
        "id": "HeZHlSY2kXdF",
        "colab": {
          "base_uri": "https://localhost:8080/"
        },
        "outputId": "069b5144-85a8-4643-b48b-243175eee84b"
      },
      "source": [
        "full_path = a_star_search( full_world, (0, 0), (26, 26), costs, cardinal_moves, heuristic )\n",
        "print( full_path)"
      ],
      "execution_count": null,
      "outputs": [
        {
          "output_type": "stream",
          "name": "stdout",
          "text": [
            "[(0, 1), (0, 2), (0, 3), (0, 4), (0, 5), (0, 6), (0, 7), (0, 8), (0, 9), (0, 10), (0, 11), (0, 12), (0, 13), (0, 14), (0, 15), (0, 16), (0, 17), (0, 18), (0, 19), (0, 20), (0, 21), (0, 22), (1, 22), (2, 22), (3, 22), (3, 23), (4, 23), (4, 24), (4, 25), (4, 26), (5, 26), (6, 26), (7, 26), (8, 26), (9, 26), (10, 26), (11, 26), (12, 26), (13, 26), (14, 26), (15, 26), (16, 26), (17, 26), (18, 26), (19, 26), (20, 26), (21, 26), (22, 26), (23, 26), (24, 26), (25, 26), (26, 26)]\n"
          ]
        }
      ]
    },
    {
      "cell_type": "code",
      "metadata": {
        "id": "5UqaSJF1kXdJ",
        "colab": {
          "base_uri": "https://localhost:8080/"
        },
        "outputId": "48b76b4b-e07f-4d3a-befc-a0d2c9fa0b1f"
      },
      "source": [
        "pretty_print_solution( full_world, full_path, (0, 0) )"
      ],
      "execution_count": null,
      "outputs": [
        {
          "output_type": "stream",
          "name": "stdout",
          "text": [
            ".....**********............\n",
            "v......*********..xxxxxxx..\n",
            "v...xx***********xxx###xx##\n",
            "v...#xxx****~~*****..##xx#.\n",
            "v..##xx**..~~~~***...#xxx#.\n",
            "v###xx##....~~~~~.....#x#..\n",
            "v##xx##....#xxx~~~.....#...\n",
            "v.#####......#xxx~~~..###..\n",
            "v..###......##xx.~~..###...\n",
            "v..~~~..###xxxx...~.###....\n",
            "v.~~~~~.##xxx#.....#xxx#...\n",
            "v~~~~~..#xx#....~~..#xx#...\n",
            "v~~~~..##xx#.~~~~...#x#....\n",
            "v~~~~..#**#....~~~~..#.....\n",
            "v...x..****####.~~~..#x#...\n",
            "v..xxx******xxx##.~.#xx#...\n",
            "v.xx**********xxx..xxx.....\n",
            "v..xx***********xxxx.......\n",
            "v..xxx********...##........\n",
            "v...xxx******..........~~~~\n",
            "v.####xx*****.x.....~~~~~~~\n",
            "v...###xxx**xx......~~~~~~~\n",
            "v>>>..###xxxx....##..~~~~~~\n",
            ".##v>#####.....##xx##.~~~~~\n",
            "#x##v#.....xxx##xx.xx##~~~~\n",
            "#xxxv.....##xxxx####xxx~~~~\n",
            "##..v>>>>>>>>>>>>>>>>>>>>>G\n"
          ]
        }
      ]
    }
  ]
}