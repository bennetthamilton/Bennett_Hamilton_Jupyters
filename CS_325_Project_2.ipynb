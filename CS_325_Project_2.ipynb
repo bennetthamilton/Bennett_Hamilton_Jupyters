{
  "nbformat": 4,
  "nbformat_minor": 0,
  "metadata": {
    "colab": {
      "provenance": [],
      "include_colab_link": true
    },
    "kernelspec": {
      "name": "python3",
      "display_name": "Python 3"
    }
  },
  "cells": [
    {
      "cell_type": "markdown",
      "metadata": {
        "id": "view-in-github",
        "colab_type": "text"
      },
      "source": [
        "<a href=\"https://colab.research.google.com/github/bennetthamilton/Bennett_Hamilton_Jupyters/blob/main/CS_325_Project_2.ipynb\" target=\"_parent\"><img src=\"https://colab.research.google.com/assets/colab-badge.svg\" alt=\"Open In Colab\"/></a>"
      ]
    },
    {
      "cell_type": "markdown",
      "metadata": {
        "id": "JCbmnarnSIAJ"
      },
      "source": [
        "```\n",
        "Bennett Hamilton\n",
        "hamibenn@oregonstate.edu\n",
        "Programming Exercise 2\n",
        "CS 325 Algorithms Spring 2023\n",
        "```"
      ]
    },
    {
      "cell_type": "markdown",
      "metadata": {
        "id": "6XK6f10_PDzo"
      },
      "source": [
        "# Part I: Implement the brute-force 0/1 Knapsack problem"
      ]
    },
    {
      "cell_type": "markdown",
      "metadata": {
        "id": "-3VuQ5s4U3g7"
      },
      "source": [
        "Complete the brute force implementation of the 0/1 Knapsack problem."
      ]
    },
    {
      "cell_type": "code",
      "metadata": {
        "id": "A6emPLIoPqvz"
      },
      "source": [
        "# Returns the maximum value that can be put in a knapsack of capacity W \n",
        "# ref: https://www.analyticsvidhya.com/blog/2022/05/knapsack-problem-in-python/\n",
        "# ref: https://www.geeksforgeeks.org/0-1-knapsack-problem-dp-10/\n",
        "def knapsack_bf(W, weights, values, n): \n",
        "  \n",
        "  # base case\n",
        "  if n == 0 or W == 0:\n",
        "    return 0\n",
        "\n",
        "  # if weight is higher than capacity, then don't include item\n",
        "  if weights[n-1] > W:\n",
        "    return knapsack_bf(W, weights, values, n-1)\n",
        "  # else find the next possible item to add\n",
        "  else:\n",
        "    return max(values[n-1] + knapsack_bf(W-weights[n-1], weights, values, n-1), \n",
        "               knapsack_bf(W, weights, values, n-1))\n",
        "  "
      ],
      "execution_count": 59,
      "outputs": []
    },
    {
      "cell_type": "markdown",
      "metadata": {
        "id": "Cix--sL9vjrZ"
      },
      "source": [
        "# Brute Force Test 1"
      ]
    },
    {
      "cell_type": "code",
      "metadata": {
        "id": "oqWwxhGHnMW-",
        "colab": {
          "base_uri": "https://localhost:8080/"
        },
        "outputId": "add8f84f-8be0-4509-bfd4-57535f70bb80"
      },
      "source": [
        "import time\n",
        "values  = [50, 100, 150]  # values\n",
        "weights = [10, 20, 30]    # weights\n",
        "W = 50   # weight capacity   \n",
        "n = len(values) \n",
        "t = time.process_time()\n",
        "result = knapsack_bf(W , weights , values , n)\n",
        "assert result == 250, 'Failed Brute Force Test 1'\n",
        "print('Passed BF Test 1 with', result, 'in', '{:.5f}'.format(time.process_time()-t), 'seconds')"
      ],
      "execution_count": 60,
      "outputs": [
        {
          "output_type": "stream",
          "name": "stdout",
          "text": [
            "Passed BF Test 1 with 250 in 0.00018 seconds\n"
          ]
        }
      ]
    },
    {
      "cell_type": "markdown",
      "metadata": {
        "id": "zLeyY6wkvm5M"
      },
      "source": [
        "#Brute Force Test 2"
      ]
    },
    {
      "cell_type": "code",
      "metadata": {
        "id": "4JKtOTYIvq6l",
        "colab": {
          "base_uri": "https://localhost:8080/"
        },
        "outputId": "cc361fb4-ba17-4e7d-8399-21323b398f7f"
      },
      "source": [
        "import time\n",
        "values  = [1, 3, 7, 11, 14, 17, 20, 25, 37, 42, 50]      # values\n",
        "weights = [1, 4, 6, 3, 15, 3, 42, 7, 9, 10, 72]    # weights\n",
        "W = 1500  # weight capacity   \n",
        "n = len(values) \n",
        "t = time.process_time()\n",
        "result = knapsack_bf(W , weights , values , n)\n",
        "assert result == 227, 'Failed Brute Force Test 1'\n",
        "print('Passed BF Test 1 with', result, 'in', '{:.5f}'.format(time.process_time()-t), 'seconds')"
      ],
      "execution_count": 61,
      "outputs": [
        {
          "output_type": "stream",
          "name": "stdout",
          "text": [
            "Passed BF Test 1 with 227 in 0.00214 seconds\n"
          ]
        }
      ]
    },
    {
      "cell_type": "markdown",
      "metadata": {
        "id": "YhVO3jEOPQOP"
      },
      "source": [
        "\n",
        "\n",
        "---\n",
        "\n",
        "\n",
        "# Part II: Implement dynamic-programming 0/1 Knapsack problem"
      ]
    },
    {
      "cell_type": "markdown",
      "metadata": {
        "id": "kDELE8NmVBgv"
      },
      "source": [
        "Complete the dynamic programming implementation of the 0/1 Knapsack problem."
      ]
    },
    {
      "cell_type": "code",
      "metadata": {
        "id": "vrp2N3CqPXYc"
      },
      "source": [
        "# Returns the maximum value that can be put in a knapsack of capacity W \n",
        "# ref: https://www.geeksforgeeks.org/0-1-knapsack-problem-dp-10/\n",
        "def knapsack_dp(W, weights, values, n): \n",
        "  \n",
        "  # define the K array size and fill it with zeroes\n",
        "  K = [[0 for x in range(W + 1)] for x in range(n + 1)]\n",
        " \n",
        "  # Build table K[][] in bottom up manner\n",
        "  for i in range(n + 1):\n",
        "      for j in range(W + 1):\n",
        "          # fill 0th row/cols with zero\n",
        "          if i == 0 or j == 0:\n",
        "              K[i][j] = 0\n",
        "          # if weight of previous is less than w, find the max\n",
        "          elif weights[i-1] <= j:\n",
        "              K[i][j] = max(values[i-1]+ K[i-1][j-weights[i-1]],\n",
        "                            K[i-1][j])\n",
        "          # else use previous value\n",
        "          else:\n",
        "              K[i][j] = K[i-1][j]\n",
        "\n",
        "  return K[n][W]"
      ],
      "execution_count": 62,
      "outputs": []
    },
    {
      "cell_type": "markdown",
      "metadata": {
        "id": "_La4QLRAOqr3"
      },
      "source": [
        "#Dynamic Programming Test 1"
      ]
    },
    {
      "cell_type": "code",
      "metadata": {
        "id": "FY3MDj3BOlUQ",
        "colab": {
          "base_uri": "https://localhost:8080/"
        },
        "outputId": "3f13f75f-6392-4825-9282-efd39653a34c"
      },
      "source": [
        "import time\n",
        "values  = [50, 100, 150]  # values\n",
        "weights = [10, 20, 30]    # weights\n",
        "W = 50   # weight capacity   \n",
        "n = len(values) \n",
        "t = time.process_time()\n",
        "result = knapsack_dp(W , weights , values , n)\n",
        "assert result == 250, 'Failed Dynamic Programming Test 1'\n",
        "print('Passed BF Test 1 with', result, 'in', '{:.5f}'.format(time.process_time()-t), 'seconds')"
      ],
      "execution_count": 63,
      "outputs": [
        {
          "output_type": "stream",
          "name": "stdout",
          "text": [
            "Passed BF Test 1 with 250 in 0.00033 seconds\n"
          ]
        }
      ]
    },
    {
      "cell_type": "markdown",
      "metadata": {
        "id": "iDmqT8NXOEh3"
      },
      "source": [
        "#Dynamic Programming Test 2"
      ]
    },
    {
      "cell_type": "code",
      "metadata": {
        "id": "Q1WuthgXOIud",
        "colab": {
          "base_uri": "https://localhost:8080/"
        },
        "outputId": "c847d48d-df95-4131-fda7-d6e79a7a16f3"
      },
      "source": [
        "import time\n",
        "values  = [1, 3, 7, 11, 14, 17, 20, 25, 37, 42, 50]      # values\n",
        "weights = [1, 4, 6, 3, 15, 3, 42, 7, 9, 10, 72]    # weights\n",
        "W = 1500  # weight capacity   \n",
        "t = time.process_time()\n",
        "result = knapsack_dp(W , weights , values , len(values))\n",
        "assert result == 227, 'Failed Dynamic Programming Test 2'\n",
        "print('Passed DP Test 2 with', result, 'in', '{:.5f}'.format(time.process_time()-t), 'seconds')"
      ],
      "execution_count": 64,
      "outputs": [
        {
          "output_type": "stream",
          "name": "stdout",
          "text": [
            "Passed DP Test 2 with 227 in 0.01283 seconds\n"
          ]
        }
      ]
    },
    {
      "cell_type": "markdown",
      "metadata": {
        "id": "3wFD67ZHMOeH"
      },
      "source": [
        "\n",
        "\n",
        "---\n",
        "\n",
        "\n",
        "#Part III: Graph the Runtime\n",
        "\n",
        "Run this code below after completeing your **brute force** and **dynamic programming** implementations of the 0/1 Knapsack problem. \n",
        "\n",
        "You do not need to write code. Please answer the brief questions below the block."
      ]
    },
    {
      "cell_type": "code",
      "metadata": {
        "id": "V0rhhZ15ICKt",
        "colab": {
          "base_uri": "https://localhost:8080/",
          "height": 472
        },
        "outputId": "ae01a6e1-0adf-4c36-c78d-2bc611519dea"
      },
      "source": [
        "import time\n",
        "import matplotlib.pyplot as plt\n",
        "import random\n",
        "\n",
        "# you can play with these constants to change the nature of the data. \n",
        "value_step_size = 5\n",
        "weight_step_size = 3\n",
        "capacity_scalar = 3\n",
        "\n",
        "# function that runs a set of functions, times their output, and\n",
        "#    graphs time vs input size\n",
        "def time_algorithms(fs, fnames):\n",
        "  if len(fs)!=len(fnames):\n",
        "    print(\"Error: functions and name lists must be the same size!\")\n",
        "    return;\n",
        "  fcount = 0\n",
        "  fig, ax1 = plt.subplots()\n",
        "  ax1.set_title('Knapsack 0/1 Problem')\n",
        "  ax1.set_xlabel('n') \n",
        "  ax1.set_ylabel('time (s)')\n",
        "  for f in fs:\n",
        "    # randomly generates input data of different sizes\n",
        "    elements = list() \n",
        "    times = list() \n",
        "    for i in range(1, 50): \n",
        "\n",
        "        # generate some data\n",
        "        values = list(range(0,5*i,value_step_size))\n",
        "        weights = list(range(1,5*i,weight_step_size))\n",
        "        #random.shuffle(weights)\n",
        "        n = len(values)\n",
        "        W = capacity_scalar * i\n",
        "        \n",
        "        # run the algorithm and time it\n",
        "        start = time.time() \n",
        "        f(W, weights, values, n) \n",
        "        end = time.time() \n",
        "\n",
        "        # save results for graphing\n",
        "        elements.append(n) \n",
        "        times.append(end-start) \n",
        "\n",
        "    # graph the complexity\n",
        "    ax1.plot(elements, times, label = fnames[fcount])      \n",
        "    fcount = fcount + 1\n",
        "    \n",
        "  ax1.grid() \n",
        "  ax1.legend() \n",
        "  fig.show() \n",
        "  \n",
        "  \n",
        "# run the graph to plot BF vs DP.  \n",
        "fs = [knapsack_bf, knapsack_dp]\n",
        "fnames = ['brute force', 'dynamic programming']\n",
        "time_algorithms(fs, fnames)\n",
        "\n"
      ],
      "execution_count": 65,
      "outputs": [
        {
          "output_type": "display_data",
          "data": {
            "text/plain": [
              "<Figure size 640x480 with 1 Axes>"
            ],
            "image/png": "[encoded data removed]"
          },
          "metadata": {}
        }
      ]
    },
    {
      "cell_type": "markdown",
      "metadata": {
        "id": "5Ih0KIMrR_Xa"
      },
      "source": [
        "\n",
        "\n",
        "---\n",
        "\n",
        "\n",
        "#Analysis"
      ]
    },
    {
      "cell_type": "markdown",
      "metadata": {
        "id": "gEtUDQ7wRH12"
      },
      "source": [
        "**Analysis Question 1: Brute Force**\n",
        "\n",
        "*What is the complexity (big-O) of the brute force approach?  Explain/show/derive how you arrived at this conclusion. Justify your answer (in words and math) for full credit.*"
      ]
    },
    {
      "cell_type": "markdown",
      "metadata": {
        "id": "56vduUNLRpdh"
      },
      "source": [
        "The time complexity of the brute force implementation is O(n2^n). For one, you can tell by looking at the graph that the time complexity is increasing exponentially. We can also reason that the brute force method runs through all possible combinations which is 2^n and then finds the max of all valid combinations which is n."
      ]
    },
    {
      "cell_type": "markdown",
      "metadata": {
        "id": "iLLuiWd3RgKN"
      },
      "source": [
        "**Analysis Question 2: Dynamic Programming**\n",
        "\n",
        "*What is the complexity (big-O) of the dynamic programming approach?  Explain/show/derive how you arrived at this conclusion. Justify your answer (in words and\n",
        "math) for full credit.*"
      ]
    },
    {
      "cell_type": "markdown",
      "metadata": {
        "id": "xdwsXXScRxFl"
      },
      "source": [
        "In dynamic programming, the time complexity is O(n*W). The program runs through all elements in the array K which is defined by the number of items n and the capacity W, therefore there are n by W runs, hence O(nW)."
      ]
    }
  ]
}