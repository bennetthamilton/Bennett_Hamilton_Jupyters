{
  "nbformat": 4,
  "nbformat_minor": 0,
  "metadata": {
    "colab": {
      "provenance": [],
      "include_colab_link": true
    },
    "kernelspec": {
      "name": "python3",
      "display_name": "Python 3"
    }
  },
  "cells": [
    {
      "cell_type": "markdown",
      "metadata": {
        "id": "view-in-github",
        "colab_type": "text"
      },
      "source": [
        "<a href=\"https://colab.research.google.com/github/bennetthamilton/Bennett_Hamilton_Jupyters/blob/main/CS_325_Project_3.ipynb\" target=\"_parent\"><img src=\"https://colab.research.google.com/assets/colab-badge.svg\" alt=\"Open In Colab\"/></a>"
      ]
    },
    {
      "cell_type": "markdown",
      "metadata": {
        "id": "dcU_tVExEtOd"
      },
      "source": [
        "```\n",
        "Bennett Hamilton\n",
        "hamibenn@oregonstate.edu\n",
        "Programming Exercise 3\n",
        "CS 325 Algorithms Spring 2023\n",
        "```"
      ]
    },
    {
      "cell_type": "markdown",
      "metadata": {
        "id": "OjDVjMahEzHc"
      },
      "source": [
        "#Part I: Implement BFS and DFS"
      ]
    },
    {
      "cell_type": "markdown",
      "metadata": {
        "id": "KoSfmiIRMdPB"
      },
      "source": [
        "Complete the implementations of `BFS` and `DFS` below. Make sure you pass all test below. "
      ]
    },
    {
      "cell_type": "code",
      "metadata": {
        "id": "y4sGXzgYEjxn"
      },
      "source": [
        "from collections import defaultdict \n",
        "\n",
        "# Representation of a directed graph as an adjacency list \n",
        "class Graph: \n",
        "  \n",
        "    # construct the graph\n",
        "    def __init__(self):   \n",
        "        # store graph as dictionary with default values\n",
        "        self.graph = defaultdict(list) \n",
        "\n",
        "    # add an edge from u to v to graph \n",
        "    def addEdge(self,u,v): \n",
        "        self.graph[u].append(v) \n",
        "        \n",
        "    # return the BFS path (list) of the graph starting at s\n",
        "    # ref: https://www.geeksforgeeks.org/breadth-first-search-or-bfs-for-a-graph/\n",
        "    # ref: https://www.geeksforgeeks.org/queue-in-python/\n",
        "    # along with CS325 lecture slides\n",
        "    def BFS(self, s):        \n",
        "      path = []           # initialize path\n",
        "\n",
        "      visited = set()     # to keep track of visited nodes\n",
        "      queue = [s]         # queue initialize to s\n",
        "      visited.add(s)      # first visited node\n",
        "\n",
        "      while queue:        # while queue is not empty\n",
        "          # dequeue queue and add to path\n",
        "          node = queue.pop(0)\n",
        "          path.append(node)\n",
        "\n",
        "          for neighbor in self.graph[node]:\n",
        "              if neighbor not in visited:\n",
        "                  # visit neighbor nodes and add to queue\n",
        "                  visited.add(neighbor)\n",
        "                  queue.append(neighbor)\n",
        "\n",
        "      return path\n",
        "    \n",
        "    # return the DFS path (list) of the graph starting at s\n",
        "    # ref: https://www.geeksforgeeks.org/depth-first-search-or-dfs-for-a-graph/\n",
        "    # along with CS325 lecture slides\n",
        "    def DFS(self, s):   \n",
        "      path = []        # initialize path\n",
        "\n",
        "      visited = set()  # to keep track of visited nodes\n",
        "\n",
        "      def dfs_helper(node):\n",
        "          nonlocal visited, path\n",
        "\n",
        "          visited.add(node)\n",
        "          path.append(node)\n",
        "\n",
        "          for neighbor in self.graph[node]:\n",
        "              if neighbor not in visited:\n",
        "                  dfs_helper(neighbor)\n",
        "\n",
        "      dfs_helper(s)\n",
        "\n",
        "      return path          "
      ],
      "execution_count": 13,
      "outputs": []
    },
    {
      "cell_type": "markdown",
      "metadata": {
        "id": "XKn-R_g9L9QH"
      },
      "source": [
        "#Part II: Run Tests"
      ]
    },
    {
      "cell_type": "code",
      "metadata": {
        "id": "sZKkBEa0PxWH"
      },
      "source": [
        "# Run this code block\n",
        "\n",
        "import time\n",
        "\n",
        "# Build a graph\n",
        "g1 = Graph() \n",
        "g1.addEdge(0, 1); g1.addEdge(0, 2);\n",
        "g1.addEdge(1, 0); g1.addEdge(1, 2); g1.addEdge(1, 3);\n",
        "g1.addEdge(2, 0); g1.addEdge(2, 1); g1.addEdge(2, 4); \n",
        "g1.addEdge(3, 3); g1.addEdge(3, 4) \n",
        "g1.addEdge(4, 1); g1.addEdge(4, 2); g1.addEdge(4, 3);\n",
        "\n",
        "# Build another graph\n",
        "g2 = Graph() \n",
        "g2.addEdge(0, 1); g2.addEdge(0, 2); g2.addEdge(0, 3); g2.addEdge(0, 4); \n",
        "g2.addEdge(0, 6); g2.addEdge(0, 8); g2.addEdge(0, 9); \n",
        "g2.addEdge(1, 0); g2.addEdge(1, 1); g2.addEdge(1, 3); g2.addEdge(1, 7);\n",
        "g2.addEdge(1, 8); g2.addEdge(1, 9);\n",
        "g2.addEdge(2, 1); g2.addEdge(2, 2); g2.addEdge(2, 5); g2.addEdge(2, 9);\n",
        "g2.addEdge(3, 1); g2.addEdge(3, 4); g2.addEdge(3, 7); g2.addEdge(3, 8);\n",
        "g2.addEdge(4, 0); g2.addEdge(4, 1); g2.addEdge(4, 2); g2.addEdge(4, 3);\n",
        "g2.addEdge(4, 6); g2.addEdge(4, 7); g2.addEdge(4, 9);\n",
        "g2.addEdge(5, 2); g2.addEdge(5, 6); g2.addEdge(5, 8);\n",
        "g2.addEdge(6, 1); g2.addEdge(6, 4); g2.addEdge(6, 8); g2.addEdge(6, 9);\n",
        "g2.addEdge(7, 0); g2.addEdge(7, 3); g2.addEdge(7, 4); g2.addEdge(7, 8);\n",
        "g2.addEdge(8, 3); g2.addEdge(8, 4); g2.addEdge(8, 5);\n",
        "g2.addEdge(9, 1); g2.addEdge(9, 3); g2.addEdge(9, 3); g2.addEdge(9, 5);\n",
        "g2.addEdge(9, 6); g2.addEdge(9, 7); "
      ],
      "execution_count": 14,
      "outputs": []
    },
    {
      "cell_type": "markdown",
      "metadata": {
        "id": "2QlORDbVP5LG"
      },
      "source": [
        "**Breadth First Tests**"
      ]
    },
    {
      "cell_type": "code",
      "metadata": {
        "id": "q8_3DPDnFj1F",
        "colab": {
          "base_uri": "https://localhost:8080/"
        },
        "outputId": "f8877f29-f005-445f-cb57-7a0e8fdd709f"
      },
      "source": [
        "# Run breadth first search\n",
        "t = time.process_time()\n",
        "path = g1.BFS(2) \n",
        "print (\"BFS path is\", path) \n",
        "assert path == [2, 0, 1, 4, 3], 'Failed Breadth First Test 1'\n",
        "print('Passed BFS Test 1 in', '{:.5f}'.format(time.process_time()-t), 'seconds')"
      ],
      "execution_count": 15,
      "outputs": [
        {
          "output_type": "stream",
          "name": "stdout",
          "text": [
            "BFS path is [2, 0, 1, 4, 3]\n",
            "Passed BFS Test 1 in 0.00183 seconds\n"
          ]
        }
      ]
    },
    {
      "cell_type": "code",
      "metadata": {
        "id": "L72EGKa0RhJY",
        "colab": {
          "base_uri": "https://localhost:8080/"
        },
        "outputId": "acaf93a7-7401-4110-d4a6-b88f663f8718"
      },
      "source": [
        "# Run breadth first search\n",
        "t = time.process_time()\n",
        "path = g2.BFS(9) \n",
        "print (\"BFS path is\", path) \n",
        "assert path == [9, 1, 3, 5, 6, 7, 0, 8, 4, 2], 'Failed Breadth First Test 2'\n",
        "print('Passed BFS Test 2 in', '{:.5f}'.format(time.process_time()-t), 'seconds')"
      ],
      "execution_count": 16,
      "outputs": [
        {
          "output_type": "stream",
          "name": "stdout",
          "text": [
            "BFS path is [9, 1, 3, 5, 6, 7, 0, 8, 4, 2]\n",
            "Passed BFS Test 2 in 0.00150 seconds\n"
          ]
        }
      ]
    },
    {
      "cell_type": "markdown",
      "metadata": {
        "id": "V1EsauKoP-1n"
      },
      "source": [
        "**Depth First Tests**"
      ]
    },
    {
      "cell_type": "code",
      "metadata": {
        "id": "LcEn8nwcP-g_",
        "colab": {
          "base_uri": "https://localhost:8080/"
        },
        "outputId": "85c5c788-ad4e-49e2-cdfb-9bb6a6939364"
      },
      "source": [
        "# Run depth first search\n",
        "t = time.process_time()\n",
        "path = g1.DFS(2) \n",
        "print (\"DFS path is\", path) \n",
        "assert path == [2, 0, 1, 3, 4], 'Failed Depth First Test 1'\n",
        "print('Passed DFS Test 1 in', '{:.5f}'.format(time.process_time()-t), 'seconds')"
      ],
      "execution_count": 17,
      "outputs": [
        {
          "output_type": "stream",
          "name": "stdout",
          "text": [
            "DFS path is [2, 0, 1, 3, 4]\n",
            "Passed DFS Test 1 in 0.00448 seconds\n"
          ]
        }
      ]
    },
    {
      "cell_type": "code",
      "metadata": {
        "id": "g0UzyJhlR4ko",
        "colab": {
          "base_uri": "https://localhost:8080/"
        },
        "outputId": "f83ddf3a-2637-4225-ab07-42cb3c91a09c"
      },
      "source": [
        "# Run depth first search\n",
        "t = time.process_time()\n",
        "path = g2.DFS(9) \n",
        "print (\"DFS path is\", path) \n",
        "assert path == [9, 1, 0, 2, 5, 6, 4, 3, 7, 8], 'Failed Depth First Test 2'\n",
        "print('Passed DFS Test 2 in', '{:.5f}'.format(time.process_time()-t), 'seconds')"
      ],
      "execution_count": 18,
      "outputs": [
        {
          "output_type": "stream",
          "name": "stdout",
          "text": [
            "DFS path is [9, 1, 0, 2, 5, 6, 4, 3, 7, 8]\n",
            "Passed DFS Test 2 in 0.00579 seconds\n"
          ]
        }
      ]
    }
  ]
}